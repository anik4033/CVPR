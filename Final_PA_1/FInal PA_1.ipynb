{
 "cells": [
  {
   "cell_type": "code",
   "execution_count": 1,
   "id": "332020d0",
   "metadata": {},
   "outputs": [],
   "source": [
    "import os\n",
    "import random\n",
    "import tensorflow as tf\n",
    "from tensorflow import keras\n",
    "from tensorflow.keras import layers\n",
    "import matplotlib.pyplot as plt\n",
    "import numpy as np\n",
    "from tensorflow.keras.datasets import cifar10\n",
    "from tensorflow.keras.optimizers import Adam\n",
    "from tensorflow.keras.preprocessing.image import ImageDataGenerator"
   ]
  },
  {
   "cell_type": "code",
   "execution_count": 2,
   "id": "d18d522d",
   "metadata": {},
   "outputs": [
    {
     "name": "stdout",
     "output_type": "stream",
     "text": [
      "(50000, 32, 32, 3)\n",
      "(10000, 32, 32, 3)\n"
     ]
    }
   ],
   "source": [
    "(X_train, Y_train),(X_test, Y_test) = cifar10.load_data()\n",
    "print(X_train.shape)\n",
    "print(X_test.shape)\n",
    "\n"
   ]
  },
  {
   "cell_type": "code",
   "execution_count": 3,
   "id": "2f6252bf",
   "metadata": {},
   "outputs": [
    {
     "name": "stdout",
     "output_type": "stream",
     "text": [
      "Number of GPU = 1\n"
     ]
    }
   ],
   "source": [
    "gpu_device = tf.config.experimental.list_physical_devices('GPU')\n",
    "print(f\"Number of GPU = {len(gpu_device)}\")\n",
    "tf.config.experimental.set_memory_growth(gpu_device[0], True)"
   ]
  },
  {
   "cell_type": "code",
   "execution_count": null,
   "id": "f386d5e8",
   "metadata": {},
   "outputs": [],
   "source": []
  },
  {
   "cell_type": "code",
   "execution_count": 4,
   "id": "54bab6e8",
   "metadata": {},
   "outputs": [],
   "source": [
    "X_valid, Y_valid = X_train[:5000], Y_train[:5000]"
   ]
  },
  {
   "cell_type": "code",
   "execution_count": null,
   "id": "a477a04c",
   "metadata": {},
   "outputs": [],
   "source": [
    "\n"
   ]
  },
  {
   "cell_type": "code",
   "execution_count": 5,
   "id": "b795ac71",
   "metadata": {},
   "outputs": [],
   "source": [
    "X_train = X_train / 255.0\n",
    "X_test = X_test/ 255.0"
   ]
  },
  {
   "cell_type": "code",
   "execution_count": 6,
   "id": "73a94449",
   "metadata": {},
   "outputs": [
    {
     "name": "stdout",
     "output_type": "stream",
     "text": [
      "Model: \"sequential\"\n",
      "_________________________________________________________________\n",
      "Layer (type)                 Output Shape              Param #   \n",
      "=================================================================\n",
      "conv2d (Conv2D)              (None, 32, 32, 64)        1792      \n",
      "_________________________________________________________________\n",
      "conv2d_1 (Conv2D)            (None, 32, 32, 64)        36928     \n",
      "_________________________________________________________________\n",
      "max_pooling2d (MaxPooling2D) (None, 16, 16, 64)        0         \n",
      "_________________________________________________________________\n",
      "conv2d_2 (Conv2D)            (None, 16, 16, 128)       73856     \n",
      "_________________________________________________________________\n",
      "conv2d_3 (Conv2D)            (None, 16, 16, 128)       147584    \n",
      "_________________________________________________________________\n",
      "max_pooling2d_1 (MaxPooling2 (None, 8, 8, 128)         0         \n",
      "_________________________________________________________________\n",
      "conv2d_4 (Conv2D)            (None, 8, 8, 256)         295168    \n",
      "_________________________________________________________________\n",
      "conv2d_5 (Conv2D)            (None, 8, 8, 256)         590080    \n",
      "_________________________________________________________________\n",
      "conv2d_6 (Conv2D)            (None, 8, 8, 256)         590080    \n",
      "_________________________________________________________________\n",
      "max_pooling2d_2 (MaxPooling2 (None, 4, 4, 256)         0         \n",
      "_________________________________________________________________\n",
      "conv2d_7 (Conv2D)            (None, 4, 4, 512)         1180160   \n",
      "_________________________________________________________________\n",
      "conv2d_8 (Conv2D)            (None, 4, 4, 512)         2359808   \n",
      "_________________________________________________________________\n",
      "conv2d_9 (Conv2D)            (None, 4, 4, 512)         2359808   \n",
      "_________________________________________________________________\n",
      "max_pooling2d_3 (MaxPooling2 (None, 2, 2, 512)         0         \n",
      "_________________________________________________________________\n",
      "conv2d_10 (Conv2D)           (None, 2, 2, 512)         2359808   \n",
      "_________________________________________________________________\n",
      "conv2d_11 (Conv2D)           (None, 2, 2, 512)         2359808   \n",
      "_________________________________________________________________\n",
      "conv2d_12 (Conv2D)           (None, 2, 2, 512)         2359808   \n",
      "_________________________________________________________________\n",
      "max_pooling2d_4 (MaxPooling2 (None, 1, 1, 512)         0         \n",
      "_________________________________________________________________\n",
      "flatten (Flatten)            (None, 512)               0         \n",
      "_________________________________________________________________\n",
      "dense (Dense)                (None, 4096)              2101248   \n",
      "_________________________________________________________________\n",
      "dense_1 (Dense)              (None, 4096)              16781312  \n",
      "_________________________________________________________________\n",
      "dense_2 (Dense)              (None, 29)                118813    \n",
      "=================================================================\n",
      "Total params: 33,716,061\n",
      "Trainable params: 33,716,061\n",
      "Non-trainable params: 0\n",
      "_________________________________________________________________\n"
     ]
    }
   ],
   "source": [
    "model = keras.Sequential([\n",
    "    keras.Input(shape=(32,32,3)),\n",
    "    layers.Conv2D(filters=64, kernel_size=(3,3), padding=\"same\", activation=\"relu\"),\n",
    "    layers.Conv2D(filters=64, kernel_size=(3,3), padding=\"same\", activation=\"relu\"),\n",
    "    layers.MaxPooling2D(pool_size=(2,2), strides=(2,2)),\n",
    "    \n",
    "    layers.Conv2D(filters=128, kernel_size=(3,3), padding=\"same\", activation=\"relu\"),\n",
    "    layers.Conv2D(filters=128, kernel_size=(3,3), padding=\"same\", activation=\"relu\"),\n",
    "    layers.MaxPooling2D(pool_size=(2,2), strides=(2,2)),\n",
    "    \n",
    "    layers.Conv2D(filters=256, kernel_size=(3,3), padding=\"same\", activation=\"relu\"),\n",
    "    layers.Conv2D(filters=256, kernel_size=(3,3), padding=\"same\", activation=\"relu\"),\n",
    "    layers.Conv2D(filters=256, kernel_size=(3,3), padding=\"same\", activation=\"relu\"),\n",
    "    layers.MaxPooling2D(pool_size=(2,2), strides=(2,2)),\n",
    "    \n",
    "    layers.Conv2D(filters=512, kernel_size=(3,3), padding=\"same\", activation=\"relu\"),\n",
    "    layers.Conv2D(filters=512, kernel_size=(3,3), padding=\"same\", activation=\"relu\"),\n",
    "    layers.Conv2D(filters=512, kernel_size=(3,3), padding=\"same\", activation=\"relu\"),\n",
    "    layers.MaxPooling2D(pool_size=(2,2), strides=(2,2)),\n",
    "    \n",
    "    layers.Conv2D(filters=512, kernel_size=(3,3), padding=\"same\", activation=\"relu\"),\n",
    "    layers.Conv2D(filters=512, kernel_size=(3,3), padding=\"same\", activation=\"relu\"),\n",
    "    layers.Conv2D(filters=512, kernel_size=(3,3), padding=\"same\", activation=\"relu\"),\n",
    "    layers.MaxPooling2D(pool_size=(2,2), strides=(2,2)),\n",
    "    \n",
    "    layers.Flatten(),\n",
    "    layers.Dense(4096, activation='relu'),\n",
    "    layers.Dense(4096, activation='relu'),\n",
    "    layers.Dense(29, activation='softmax')\n",
    "])\n",
    "model.summary()"
   ]
  },
  {
   "cell_type": "code",
   "execution_count": 7,
   "id": "cbebe318",
   "metadata": {},
   "outputs": [],
   "source": [
    "learning_rate = 0.0001\n",
    "adam = Adam(lr=learning_rate)\n",
    "model.compile(optimizer=adam, loss='sparse_categorical_crossentropy', metrics=['accuracy'])\n"
   ]
  },
  {
   "cell_type": "code",
   "execution_count": 8,
   "id": "ee143957",
   "metadata": {},
   "outputs": [
    {
     "name": "stdout",
     "output_type": "stream",
     "text": [
      "Epoch 1/6\n",
      "391/391 [==============================] - 23s 49ms/step - loss: 2.3933 - accuracy: 0.1147 - val_loss: 147.0635 - val_accuracy: 0.2192\n",
      "Epoch 2/6\n",
      "391/391 [==============================] - 17s 43ms/step - loss: 1.6840 - accuracy: 0.3357 - val_loss: 86.6880 - val_accuracy: 0.3520\n",
      "Epoch 3/6\n",
      "391/391 [==============================] - 17s 44ms/step - loss: 1.3563 - accuracy: 0.4923 - val_loss: 76.3236 - val_accuracy: 0.4150\n",
      "Epoch 4/6\n",
      "391/391 [==============================] - 17s 44ms/step - loss: 1.1178 - accuracy: 0.5929 - val_loss: 60.8297 - val_accuracy: 0.4818\n",
      "Epoch 5/6\n",
      "391/391 [==============================] - 17s 44ms/step - loss: 0.9399 - accuracy: 0.6594 - val_loss: 77.6516 - val_accuracy: 0.4466\n",
      "Epoch 6/6\n",
      "391/391 [==============================] - 17s 44ms/step - loss: 0.8026 - accuracy: 0.7142 - val_loss: 51.4509 - val_accuracy: 0.5092\n"
     ]
    }
   ],
   "source": [
    "h = model.fit(X_train, Y_train, epochs=6, validation_data=(X_valid, Y_valid), batch_size=128)"
   ]
  },
  {
   "cell_type": "code",
   "execution_count": 9,
   "id": "92fd035c",
   "metadata": {},
   "outputs": [],
   "source": [
    "train_gen = ImageDataGenerator(\n",
    "    featurewise_center=False,\n",
    "    rotation_range=50,\n",
    "    width_shift_range=0.2,\n",
    "    horizontal_flip= True,\n",
    "    fill_mode='nearest',\n",
    "    zoom_range=0.1,\n",
    ")\n",
    "    "
   ]
  },
  {
   "cell_type": "code",
   "execution_count": 10,
   "id": "ca8cefba",
   "metadata": {},
   "outputs": [],
   "source": [
    "aug_train = train_gen.flow(X_train, Y_train, batch_size=128)"
   ]
  },
  {
   "cell_type": "code",
   "execution_count": 11,
   "id": "b13507ab",
   "metadata": {},
   "outputs": [
    {
     "name": "stdout",
     "output_type": "stream",
     "text": [
      "Epoch 1/6\n",
      "391/391 [==============================] - 20s 50ms/step - loss: 1.2077 - accuracy: 0.5741 - val_loss: 88.8838 - val_accuracy: 0.4088\n",
      "Epoch 2/6\n",
      "391/391 [==============================] - 19s 50ms/step - loss: 1.1017 - accuracy: 0.6112 - val_loss: 98.9465 - val_accuracy: 0.4038\n",
      "Epoch 3/6\n",
      "391/391 [==============================] - 19s 50ms/step - loss: 1.0500 - accuracy: 0.6310 - val_loss: 84.9435 - val_accuracy: 0.4440\n",
      "Epoch 4/6\n",
      "391/391 [==============================] - 19s 50ms/step - loss: 0.9894 - accuracy: 0.6542 - val_loss: 103.6626 - val_accuracy: 0.4472\n",
      "Epoch 5/6\n",
      "391/391 [==============================] - 20s 51ms/step - loss: 0.9630 - accuracy: 0.6641 - val_loss: 121.1412 - val_accuracy: 0.4086\n",
      "Epoch 6/6\n",
      "391/391 [==============================] - 21s 52ms/step - loss: 0.9214 - accuracy: 0.6805 - val_loss: 124.1379 - val_accuracy: 0.3918\n"
     ]
    }
   ],
   "source": [
    "h = model.fit(aug_train, epochs=6, validation_data=(X_valid, Y_valid))"
   ]
  },
  {
   "cell_type": "markdown",
   "id": "e6811fe8",
   "metadata": {},
   "source": [
    "Difference:\n",
    "\n",
    "\n",
    "We see some major difference in both training with data augmentation and without augmentation. In without augmentation we see training accuracy increase linearly and reched 71% at 6 epochs also we see same thing in validation accuracy. When we do augmentation in data it also linearly increase accuracy in training data but it reached 92% at 6 epochs where without augmentation it reached 71% so, here a major difference is made in training data. In validation accuracy we see some difference are also made in with augmentation accuracy are very high at the first epochs as time go accuracy was dropped and reached 39% accuracy where we see a linear increasing accuracy without augmentation and reached 50% accuracy. Those are the major difference we see in with and without augmentation. "
   ]
  },
  {
   "cell_type": "code",
   "execution_count": null,
   "id": "168e6b81",
   "metadata": {},
   "outputs": [],
   "source": []
  }
 ],
 "metadata": {
  "kernelspec": {
   "display_name": "cvpr tf2.4 py3.8",
   "language": "python",
   "name": "cvpr"
  },
  "language_info": {
   "codemirror_mode": {
    "name": "ipython",
    "version": 3
   },
   "file_extension": ".py",
   "mimetype": "text/x-python",
   "name": "python",
   "nbconvert_exporter": "python",
   "pygments_lexer": "ipython3",
   "version": "3.8.10"
  }
 },
 "nbformat": 4,
 "nbformat_minor": 5
}
