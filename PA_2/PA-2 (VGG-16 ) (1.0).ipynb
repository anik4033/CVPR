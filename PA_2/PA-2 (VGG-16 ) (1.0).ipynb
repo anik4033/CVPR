{
 "cells": [
  {
   "cell_type": "code",
   "execution_count": 1,
   "id": "76d6f1fd",
   "metadata": {},
   "outputs": [],
   "source": [
    "import os\n",
    "import cv2\n",
    "import numpy as np\n",
    "from tensorflow import keras\n",
    "from tensorflow.keras import layers\n",
    "from tensorflow.keras import utils\n",
    "from tensorflow.keras.optimizers import Adam\n",
    "from tensorflow.keras.models import Sequential\n",
    "from tensorflow.keras.layers import Dense, Flatten, MaxPool2D, Conv2D\n",
    "from sklearn.model_selection import train_test_split\n",
    "import matplotlib.pyplot as plt\n",
    "from tqdm import tqdm\n"
   ]
  },
  {
   "cell_type": "markdown",
   "id": "ea54b0c3",
   "metadata": {},
   "source": [
    "IMPORT DATA:\n",
    "\n",
    "Import the ASL data set from the location where the file is downloaded"
   ]
  },
  {
   "cell_type": "code",
   "execution_count": 2,
   "id": "2bc2192a",
   "metadata": {},
   "outputs": [],
   "source": [
    "Data_Dir = 'F:\\study\\sem 10\\cvpr\\VGG 16\\dataset'\n",
    "TEST_DATA_DIR = os.path.join(Data_Dir, 'asl_alphabet_test/asl_alphabet_test')\n",
    "TRAIN_DATA_DIR = os.path.join(Data_Dir, 'asl_alphabet_train/asl_alphabet_train')"
   ]
  },
  {
   "cell_type": "markdown",
   "id": "7c3d0af7",
   "metadata": {},
   "source": [
    "EXTRACT Train Data:\n",
    "\n",
    "Extract all the train data in CATEGORIES variable"
   ]
  },
  {
   "cell_type": "code",
   "execution_count": 3,
   "id": "436b14e4",
   "metadata": {},
   "outputs": [
    {
     "name": "stdout",
     "output_type": "stream",
     "text": [
      "['A', 'B', 'C', 'D', 'del', 'E', 'F', 'G', 'H', 'I', 'J', 'K', 'L', 'M', 'N', 'nothing', 'O', 'P', 'Q', 'R', 'S', 'space', 'T', 'U', 'V', 'W', 'X', 'Y', 'Z']\n"
     ]
    }
   ],
   "source": [
    "CATEGORIES = []\n",
    "\n",
    "for i in os.listdir(TRAIN_DATA_DIR):\n",
    "    CATEGORIES.append(i)\n",
    "    \n",
    "print(CATEGORIES)"
   ]
  },
  {
   "cell_type": "markdown",
   "id": "af580a67",
   "metadata": {},
   "source": [
    "PRE PROCESS DATA:\n",
    "\n",
    "Pre prosessing of all data is done here"
   ]
  },
  {
   "cell_type": "code",
   "execution_count": 4,
   "id": "01ad8a78",
   "metadata": {},
   "outputs": [
    {
     "name": "stderr",
     "output_type": "stream",
     "text": [
      "100%|█████████████████████████████████████████████████████████████████████████████| 3000/3000 [00:22<00:00, 132.90it/s]\n",
      "100%|█████████████████████████████████████████████████████████████████████████████| 3000/3000 [00:23<00:00, 125.73it/s]\n",
      "100%|█████████████████████████████████████████████████████████████████████████████| 3000/3000 [00:21<00:00, 137.58it/s]\n",
      "100%|█████████████████████████████████████████████████████████████████████████████| 3000/3000 [00:24<00:00, 122.92it/s]\n",
      "100%|█████████████████████████████████████████████████████████████████████████████| 3000/3000 [00:23<00:00, 128.27it/s]\n",
      "100%|█████████████████████████████████████████████████████████████████████████████| 3000/3000 [00:23<00:00, 128.87it/s]\n",
      "100%|█████████████████████████████████████████████████████████████████████████████| 3000/3000 [00:24<00:00, 123.04it/s]\n",
      "100%|█████████████████████████████████████████████████████████████████████████████| 3000/3000 [00:25<00:00, 116.00it/s]\n",
      "100%|█████████████████████████████████████████████████████████████████████████████| 3000/3000 [00:24<00:00, 122.86it/s]\n",
      "100%|█████████████████████████████████████████████████████████████████████████████| 3000/3000 [00:23<00:00, 128.19it/s]\n",
      "100%|█████████████████████████████████████████████████████████████████████████████| 3000/3000 [00:22<00:00, 133.47it/s]\n",
      "100%|█████████████████████████████████████████████████████████████████████████████| 3000/3000 [00:21<00:00, 139.71it/s]\n",
      "100%|█████████████████████████████████████████████████████████████████████████████| 3000/3000 [00:21<00:00, 140.48it/s]\n",
      "100%|█████████████████████████████████████████████████████████████████████████████| 3000/3000 [00:19<00:00, 151.51it/s]\n",
      "100%|█████████████████████████████████████████████████████████████████████████████| 3000/3000 [00:21<00:00, 137.11it/s]\n",
      "100%|█████████████████████████████████████████████████████████████████████████████| 3000/3000 [00:21<00:00, 138.32it/s]\n",
      "100%|█████████████████████████████████████████████████████████████████████████████| 3000/3000 [00:19<00:00, 152.42it/s]\n",
      "100%|█████████████████████████████████████████████████████████████████████████████| 3000/3000 [00:20<00:00, 145.79it/s]\n",
      "100%|█████████████████████████████████████████████████████████████████████████████| 3000/3000 [00:22<00:00, 131.10it/s]\n",
      "100%|█████████████████████████████████████████████████████████████████████████████| 3000/3000 [00:21<00:00, 139.17it/s]\n",
      "100%|█████████████████████████████████████████████████████████████████████████████| 3000/3000 [00:20<00:00, 144.20it/s]\n",
      "100%|█████████████████████████████████████████████████████████████████████████████| 3000/3000 [00:20<00:00, 147.78it/s]\n",
      "100%|█████████████████████████████████████████████████████████████████████████████| 3000/3000 [00:22<00:00, 132.58it/s]\n",
      "100%|█████████████████████████████████████████████████████████████████████████████| 3000/3000 [00:22<00:00, 135.36it/s]\n",
      "100%|█████████████████████████████████████████████████████████████████████████████| 3000/3000 [00:21<00:00, 141.30it/s]\n",
      "100%|█████████████████████████████████████████████████████████████████████████████| 3000/3000 [00:22<00:00, 132.17it/s]\n",
      "100%|█████████████████████████████████████████████████████████████████████████████| 3000/3000 [00:21<00:00, 138.35it/s]\n",
      "100%|█████████████████████████████████████████████████████████████████████████████| 3000/3000 [00:20<00:00, 149.81it/s]\n",
      "100%|█████████████████████████████████████████████████████████████████████████████| 3000/3000 [00:20<00:00, 145.30it/s]\n"
     ]
    }
   ],
   "source": [
    "images = []\n",
    "labels = []\n",
    "img_size = 32,32\n",
    "\n",
    "for c in CATEGORIES:\n",
    "    path = os.path.join(TRAIN_DATA_DIR, c) \n",
    "    class_num = CATEGORIES.index(c) \n",
    "    for img in tqdm(os.listdir(path)):\n",
    "        try:\n",
    "            img_array = cv2.imread(os.path.join(path, img))   \n",
    "            img_resized = cv2.resize(img_array, img_size)  \n",
    "            images.append(img_resized) \n",
    "            labels.append(class_num)\n",
    "        except WException as e:\n",
    "            pass\n"
   ]
  },
  {
   "cell_type": "code",
   "execution_count": 5,
   "id": "ddb3372e",
   "metadata": {},
   "outputs": [
    {
     "name": "stdout",
     "output_type": "stream",
     "text": [
      "(87000, 29)\n"
     ]
    }
   ],
   "source": [
    "images = np.array(images)\n",
    "images = images.astype('float32')/255.0\n",
    "labels = utils.to_categorical(labels)\n",
    "x_train, x_test, y_train, y_test = train_test_split(images, labels, test_size = 0.1)\n",
    "print(labels.shape)"
   ]
  },
  {
   "cell_type": "markdown",
   "id": "7261cf4f",
   "metadata": {},
   "source": [
    "VGG 16 Architecture:"
   ]
  },
  {
   "cell_type": "code",
   "execution_count": 6,
   "id": "01bec5d4",
   "metadata": {},
   "outputs": [
    {
     "name": "stdout",
     "output_type": "stream",
     "text": [
      "Model: \"sequential\"\n",
      "_________________________________________________________________\n",
      "Layer (type)                 Output Shape              Param #   \n",
      "=================================================================\n",
      "conv2d (Conv2D)              (None, 32, 32, 64)        1792      \n",
      "_________________________________________________________________\n",
      "conv2d_1 (Conv2D)            (None, 32, 32, 64)        36928     \n",
      "_________________________________________________________________\n",
      "max_pooling2d (MaxPooling2D) (None, 16, 16, 64)        0         \n",
      "_________________________________________________________________\n",
      "conv2d_2 (Conv2D)            (None, 16, 16, 128)       73856     \n",
      "_________________________________________________________________\n",
      "conv2d_3 (Conv2D)            (None, 16, 16, 128)       147584    \n",
      "_________________________________________________________________\n",
      "max_pooling2d_1 (MaxPooling2 (None, 8, 8, 128)         0         \n",
      "_________________________________________________________________\n",
      "conv2d_4 (Conv2D)            (None, 8, 8, 256)         295168    \n",
      "_________________________________________________________________\n",
      "conv2d_5 (Conv2D)            (None, 8, 8, 256)         590080    \n",
      "_________________________________________________________________\n",
      "conv2d_6 (Conv2D)            (None, 8, 8, 256)         590080    \n",
      "_________________________________________________________________\n",
      "max_pooling2d_2 (MaxPooling2 (None, 4, 4, 256)         0         \n",
      "_________________________________________________________________\n",
      "conv2d_7 (Conv2D)            (None, 4, 4, 512)         1180160   \n",
      "_________________________________________________________________\n",
      "conv2d_8 (Conv2D)            (None, 4, 4, 512)         2359808   \n",
      "_________________________________________________________________\n",
      "conv2d_9 (Conv2D)            (None, 4, 4, 512)         2359808   \n",
      "_________________________________________________________________\n",
      "max_pooling2d_3 (MaxPooling2 (None, 2, 2, 512)         0         \n",
      "_________________________________________________________________\n",
      "conv2d_10 (Conv2D)           (None, 2, 2, 512)         2359808   \n",
      "_________________________________________________________________\n",
      "conv2d_11 (Conv2D)           (None, 2, 2, 512)         2359808   \n",
      "_________________________________________________________________\n",
      "conv2d_12 (Conv2D)           (None, 2, 2, 512)         2359808   \n",
      "_________________________________________________________________\n",
      "max_pooling2d_4 (MaxPooling2 (None, 1, 1, 512)         0         \n",
      "_________________________________________________________________\n",
      "flatten (Flatten)            (None, 512)               0         \n",
      "_________________________________________________________________\n",
      "dense (Dense)                (None, 4096)              2101248   \n",
      "_________________________________________________________________\n",
      "dense_1 (Dense)              (None, 4096)              16781312  \n",
      "_________________________________________________________________\n",
      "dense_2 (Dense)              (None, 29)                118813    \n",
      "=================================================================\n",
      "Total params: 33,716,061\n",
      "Trainable params: 33,716,061\n",
      "Non-trainable params: 0\n",
      "_________________________________________________________________\n"
     ]
    }
   ],
   "source": [
    "model = keras.Sequential([\n",
    "    keras.Input(shape=(32,32,3)),\n",
    "    layers.Conv2D(filters=64, kernel_size=(3,3), padding=\"same\", activation=\"relu\"),\n",
    "    layers.Conv2D(filters=64, kernel_size=(3,3), padding=\"same\", activation=\"relu\"),\n",
    "    layers.MaxPooling2D(pool_size=(2,2), strides=(2,2)),\n",
    "    \n",
    "    layers.Conv2D(filters=128, kernel_size=(3,3), padding=\"same\", activation=\"relu\"),\n",
    "    layers.Conv2D(filters=128, kernel_size=(3,3), padding=\"same\", activation=\"relu\"),\n",
    "    layers.MaxPooling2D(pool_size=(2,2), strides=(2,2)),\n",
    "    \n",
    "    layers.Conv2D(filters=256, kernel_size=(3,3), padding=\"same\", activation=\"relu\"),\n",
    "    layers.Conv2D(filters=256, kernel_size=(3,3), padding=\"same\", activation=\"relu\"),\n",
    "    layers.Conv2D(filters=256, kernel_size=(3,3), padding=\"same\", activation=\"relu\"),\n",
    "    layers.MaxPooling2D(pool_size=(2,2), strides=(2,2)),\n",
    "    \n",
    "    layers.Conv2D(filters=512, kernel_size=(3,3), padding=\"same\", activation=\"relu\"),\n",
    "    layers.Conv2D(filters=512, kernel_size=(3,3), padding=\"same\", activation=\"relu\"),\n",
    "    layers.Conv2D(filters=512, kernel_size=(3,3), padding=\"same\", activation=\"relu\"),\n",
    "    layers.MaxPooling2D(pool_size=(2,2), strides=(2,2)),\n",
    "    \n",
    "    layers.Conv2D(filters=512, kernel_size=(3,3), padding=\"same\", activation=\"relu\"),\n",
    "    layers.Conv2D(filters=512, kernel_size=(3,3), padding=\"same\", activation=\"relu\"),\n",
    "    layers.Conv2D(filters=512, kernel_size=(3,3), padding=\"same\", activation=\"relu\"),\n",
    "    layers.MaxPooling2D(pool_size=(2,2), strides=(2,2)),\n",
    "    \n",
    "    layers.Flatten(),\n",
    "    layers.Dense(4096, activation='relu'),\n",
    "    layers.Dense(4096, activation='relu'),\n",
    "    layers.Dense(29, activation='softmax')\n",
    "])\n",
    "model.summary()"
   ]
  },
  {
   "cell_type": "markdown",
   "id": "89d0d856",
   "metadata": {},
   "source": [
    "Compile the model and set the learnimg rate here and show the model summary and after that train the model"
   ]
  },
  {
   "cell_type": "code",
   "execution_count": 7,
   "id": "65ff603c",
   "metadata": {},
   "outputs": [],
   "source": [
    "learning_rate = 0.0001\n",
    "adam = Adam(lr=learning_rate)\n",
    "model.compile(optimizer=adam, loss='categorical_crossentropy', metrics=['accuracy'])\n"
   ]
  },
  {
   "cell_type": "code",
   "execution_count": 8,
   "id": "8f6c45af",
   "metadata": {},
   "outputs": [
    {
     "name": "stdout",
     "output_type": "stream",
     "text": [
      "Epoch 1/6\n",
      "551/551 [==============================] - 37s 47ms/step - loss: 2.8940 - accuracy: 0.1212 - val_loss: 0.9019 - val_accuracy: 0.6591\n",
      "Epoch 2/6\n",
      "551/551 [==============================] - 24s 43ms/step - loss: 0.6784 - accuracy: 0.7506 - val_loss: 0.2514 - val_accuracy: 0.9080\n",
      "Epoch 3/6\n",
      "551/551 [==============================] - 24s 43ms/step - loss: 0.2002 - accuracy: 0.9279 - val_loss: 0.0986 - val_accuracy: 0.9673\n",
      "Epoch 4/6\n",
      "551/551 [==============================] - 24s 43ms/step - loss: 0.1136 - accuracy: 0.9608 - val_loss: 0.1273 - val_accuracy: 0.9557\n",
      "Epoch 5/6\n",
      "551/551 [==============================] - 24s 43ms/step - loss: 0.0779 - accuracy: 0.9733 - val_loss: 0.0751 - val_accuracy: 0.9762\n",
      "Epoch 6/6\n",
      "551/551 [==============================] - 24s 43ms/step - loss: 0.0642 - accuracy: 0.9799 - val_loss: 0.0352 - val_accuracy: 0.9883\n"
     ]
    }
   ],
   "source": [
    "h = model.fit(x_train, y_train, batch_size=128, epochs=6, validation_split=0.1)"
   ]
  },
  {
   "cell_type": "markdown",
   "id": "66f62d51",
   "metadata": {},
   "source": [
    "As you can see we done the training seisson here with 6 epochs it reached 97% of training accuracy and 98% of the validation accuracy which look pretty decent and it works good "
   ]
  },
  {
   "cell_type": "code",
   "execution_count": null,
   "id": "3fb5e91d",
   "metadata": {},
   "outputs": [],
   "source": []
  }
 ],
 "metadata": {
  "kernelspec": {
   "display_name": "Python [conda env:cvpr] *",
   "language": "python",
   "name": "conda-env-cvpr-py"
  },
  "language_info": {
   "codemirror_mode": {
    "name": "ipython",
    "version": 3
   },
   "file_extension": ".py",
   "mimetype": "text/x-python",
   "name": "python",
   "nbconvert_exporter": "python",
   "pygments_lexer": "ipython3",
   "version": "3.8.10"
  }
 },
 "nbformat": 4,
 "nbformat_minor": 5
}
