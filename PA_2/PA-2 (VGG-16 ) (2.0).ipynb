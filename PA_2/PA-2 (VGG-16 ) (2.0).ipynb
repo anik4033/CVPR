{
 "cells": [
  {
   "cell_type": "code",
   "execution_count": 3,
   "id": "76d6f1fd",
   "metadata": {},
   "outputs": [],
   "source": [
    "import os\n",
    "import cv2\n",
    "import numpy as np\n",
    "from tensorflow.keras import utils\n",
    "from tensorflow.keras.optimizers import Adam\n",
    "from tensorflow.keras.models import Sequential\n",
    "from tensorflow.keras.layers import Dense, Flatten, MaxPool2D, Conv2D\n",
    "from sklearn.model_selection import train_test_split\n",
    "import matplotlib.pyplot as plt\n",
    "from tqdm import tqdm\n"
   ]
  },
  {
   "cell_type": "markdown",
   "id": "1a3e8df6",
   "metadata": {},
   "source": [
    "IMPORT DATA:\n",
    "\n",
    "Import the data set from the location where the file is downloaded"
   ]
  },
  {
   "cell_type": "code",
   "execution_count": 6,
   "id": "2bc2192a",
   "metadata": {},
   "outputs": [],
   "source": [
    "Data_Dir = 'F:\\study\\sem 10\\cvpr\\VGG 16\\dataset'\n",
    "TEST_DATA_DIR = os.path.join(Data_Dir, 'asl_alphabet_test/asl_alphabet_test')\n",
    "TRAIN_DATA_DIR = os.path.join(Data_Dir, 'asl_alphabet_train/asl_alphabet_train')"
   ]
  },
  {
   "cell_type": "markdown",
   "id": "536ecd3b",
   "metadata": {},
   "source": [
    "EXTRACT Train Data:\n",
    "\n",
    "Extract all the train data in CATEGORIES variable"
   ]
  },
  {
   "cell_type": "code",
   "execution_count": 5,
   "id": "436b14e4",
   "metadata": {},
   "outputs": [
    {
     "name": "stdout",
     "output_type": "stream",
     "text": [
      "['A', 'B', 'C', 'D', 'del', 'E', 'F', 'G', 'H', 'I', 'J', 'K', 'L', 'M', 'N', 'nothing', 'O', 'P', 'Q', 'R', 'S', 'space', 'T', 'U', 'V', 'W', 'X', 'Y', 'Z']\n"
     ]
    }
   ],
   "source": [
    "CATEGORIES = []\n",
    "\n",
    "for i in os.listdir(TRAIN_DATA_DIR):\n",
    "    CATEGORIES.append(i)\n",
    "    \n",
    "print(CATEGORIES)"
   ]
  },
  {
   "cell_type": "markdown",
   "id": "b7f00ca5",
   "metadata": {},
   "source": [
    "PRE PROCESS DATA:\n",
    "\n",
    "Pre prosessing of all data is done here"
   ]
  },
  {
   "cell_type": "code",
   "execution_count": 17,
   "id": "01ad8a78",
   "metadata": {},
   "outputs": [
    {
     "name": "stderr",
     "output_type": "stream",
     "text": [
      "100%|████████████████████████████████████████████████████████████████████████████| 3000/3000 [00:02<00:00, 1414.05it/s]\n",
      "100%|████████████████████████████████████████████████████████████████████████████| 3000/3000 [00:02<00:00, 1434.80it/s]\n",
      "100%|████████████████████████████████████████████████████████████████████████████| 3000/3000 [00:02<00:00, 1404.75it/s]\n",
      "100%|████████████████████████████████████████████████████████████████████████████| 3000/3000 [00:02<00:00, 1445.81it/s]\n",
      "100%|████████████████████████████████████████████████████████████████████████████| 3000/3000 [00:02<00:00, 1455.21it/s]\n",
      "100%|████████████████████████████████████████████████████████████████████████████| 3000/3000 [00:02<00:00, 1441.25it/s]\n",
      "100%|████████████████████████████████████████████████████████████████████████████| 3000/3000 [00:02<00:00, 1433.34it/s]\n",
      "100%|████████████████████████████████████████████████████████████████████████████| 3000/3000 [00:02<00:00, 1465.50it/s]\n",
      "100%|████████████████████████████████████████████████████████████████████████████| 3000/3000 [00:02<00:00, 1427.29it/s]\n",
      "100%|████████████████████████████████████████████████████████████████████████████| 3000/3000 [00:02<00:00, 1439.08it/s]\n",
      "100%|████████████████████████████████████████████████████████████████████████████| 3000/3000 [00:02<00:00, 1391.72it/s]\n",
      "100%|█████████████████████████████████████████████████████████████████████████████| 3000/3000 [00:07<00:00, 426.78it/s]\n",
      "100%|█████████████████████████████████████████████████████████████████████████████| 3000/3000 [00:19<00:00, 151.36it/s]\n",
      "100%|█████████████████████████████████████████████████████████████████████████████| 3000/3000 [00:19<00:00, 154.58it/s]\n",
      "100%|█████████████████████████████████████████████████████████████████████████████| 3000/3000 [00:19<00:00, 152.06it/s]\n",
      "100%|█████████████████████████████████████████████████████████████████████████████| 3000/3000 [00:20<00:00, 149.09it/s]\n",
      "100%|█████████████████████████████████████████████████████████████████████████████| 3000/3000 [00:19<00:00, 156.28it/s]\n",
      "100%|█████████████████████████████████████████████████████████████████████████████| 3000/3000 [00:19<00:00, 155.20it/s]\n",
      "100%|█████████████████████████████████████████████████████████████████████████████| 3000/3000 [00:19<00:00, 153.92it/s]\n",
      "100%|█████████████████████████████████████████████████████████████████████████████| 3000/3000 [00:19<00:00, 152.39it/s]\n",
      "100%|█████████████████████████████████████████████████████████████████████████████| 3000/3000 [00:19<00:00, 152.71it/s]\n",
      "100%|█████████████████████████████████████████████████████████████████████████████| 3000/3000 [00:19<00:00, 152.52it/s]\n",
      "100%|█████████████████████████████████████████████████████████████████████████████| 3000/3000 [00:19<00:00, 151.10it/s]\n",
      "100%|█████████████████████████████████████████████████████████████████████████████| 3000/3000 [00:19<00:00, 151.84it/s]\n",
      "100%|█████████████████████████████████████████████████████████████████████████████| 3000/3000 [00:19<00:00, 153.86it/s]\n",
      "100%|█████████████████████████████████████████████████████████████████████████████| 3000/3000 [00:19<00:00, 154.41it/s]\n",
      "100%|█████████████████████████████████████████████████████████████████████████████| 3000/3000 [00:07<00:00, 386.58it/s]\n",
      "100%|█████████████████████████████████████████████████████████████████████████████| 3000/3000 [00:03<00:00, 933.00it/s]\n",
      "100%|█████████████████████████████████████████████████████████████████████████████| 3000/3000 [00:03<00:00, 864.25it/s]\n"
     ]
    },
    {
     "ename": "AttributeError",
     "evalue": "'list' object has no attribute 'shape'",
     "output_type": "error",
     "traceback": [
      "\u001b[1;31m---------------------------------------------------------------------------\u001b[0m",
      "\u001b[1;31mAttributeError\u001b[0m                            Traceback (most recent call last)",
      "\u001b[1;32m<ipython-input-17-c586e0ce8ba6>\u001b[0m in \u001b[0;36m<module>\u001b[1;34m\u001b[0m\n\u001b[0;32m     14\u001b[0m         \u001b[1;32mexcept\u001b[0m \u001b[0mWException\u001b[0m \u001b[1;32mas\u001b[0m \u001b[0me\u001b[0m\u001b[1;33m:\u001b[0m\u001b[1;33m\u001b[0m\u001b[1;33m\u001b[0m\u001b[0m\n\u001b[0;32m     15\u001b[0m             \u001b[1;32mpass\u001b[0m\u001b[1;33m\u001b[0m\u001b[1;33m\u001b[0m\u001b[0m\n\u001b[1;32m---> 16\u001b[1;33m \u001b[0mprint\u001b[0m\u001b[1;33m(\u001b[0m\u001b[0mlabels\u001b[0m\u001b[1;33m.\u001b[0m\u001b[0mshape\u001b[0m\u001b[1;33m)\u001b[0m\u001b[1;33m\u001b[0m\u001b[1;33m\u001b[0m\u001b[0m\n\u001b[0m",
      "\u001b[1;31mAttributeError\u001b[0m: 'list' object has no attribute 'shape'"
     ]
    }
   ],
   "source": [
    "images = []\n",
    "labels = []\n",
    "img_size = 32,32\n",
    "\n",
    "for c in CATEGORIES:\n",
    "    path = os.path.join(TRAIN_DATA_DIR, c) # 'E:/DATASETS/classification/Face Mask Dataset/train/WithMask'\n",
    "    class_num = CATEGORIES.index(c) # 0\n",
    "    for img in tqdm(os.listdir(path)):\n",
    "        try:\n",
    "            img_array = cv2.imread(os.path.join(path, img))   # read the image\n",
    "            img_resized = cv2.resize(img_array, img_size)  # resize the image\n",
    "            images.append(img_resized) # [ [img, 0], [], [], [], ...., []]\n",
    "            labels.append(class_num)\n",
    "        except WException as e:\n",
    "            pass\n",
    "print(labels.shape)"
   ]
  },
  {
   "cell_type": "code",
   "execution_count": 16,
   "id": "ddb3372e",
   "metadata": {},
   "outputs": [
    {
     "name": "stdout",
     "output_type": "stream",
     "text": [
      "(87000, 29, 2, 2)\n"
     ]
    }
   ],
   "source": [
    "images = np.array(images)\n",
    "images = images.astype('float32')/255.0\n",
    "labels = utils.to_categorical(labels)\n",
    "x_train, x_test, y_train, y_test = train_test_split(images, labels, test_size = 0.1)\n",
    "print(labels.shape)"
   ]
  },
  {
   "cell_type": "markdown",
   "id": "ee718b35",
   "metadata": {},
   "source": [
    "VGG 16 Architecture:"
   ]
  },
  {
   "cell_type": "code",
   "execution_count": 11,
   "id": "01bec5d4",
   "metadata": {},
   "outputs": [],
   "source": [
    "model = keras.Sequential([\n",
    "    keras.Input(shape=(32,32,3)),\n",
    "    layers.Conv2D(filters=64, kernel_size=(3,3), padding=\"same\", activation=\"relu\"),\n",
    "    layers.Conv2D(filters=64, kernel_size=(3,3), padding=\"same\", activation=\"relu\"),\n",
    "    layers.MaxPooling2D(pool_size=(2,2), strides=(2,2)),\n",
    "    \n",
    "    layers.Conv2D(filters=128, kernel_size=(3,3), padding=\"same\", activation=\"relu\"),\n",
    "    layers.Conv2D(filters=128, kernel_size=(3,3), padding=\"same\", activation=\"relu\"),\n",
    "    layers.MaxPooling2D(pool_size=(2,2), strides=(2,2)),\n",
    "    \n",
    "    layers.Conv2D(filters=256, kernel_size=(3,3), padding=\"same\", activation=\"relu\"),\n",
    "    layers.Conv2D(filters=256, kernel_size=(3,3), padding=\"same\", activation=\"relu\"),\n",
    "    layers.Conv2D(filters=256, kernel_size=(3,3), padding=\"same\", activation=\"relu\"),\n",
    "    layers.MaxPooling2D(pool_size=(2,2), strides=(2,2)),\n",
    "    \n",
    "    layers.Conv2D(filters=512, kernel_size=(3,3), padding=\"same\", activation=\"relu\"),\n",
    "    layers.Conv2D(filters=512, kernel_size=(3,3), padding=\"same\", activation=\"relu\"),\n",
    "    layers.Conv2D(filters=512, kernel_size=(3,3), padding=\"same\", activation=\"relu\"),\n",
    "    layers.MaxPooling2D(pool_size=(2,2), strides=(2,2)),\n",
    "    \n",
    "    layers.Conv2D(filters=512, kernel_size=(3,3), padding=\"same\", activation=\"relu\"),\n",
    "    layers.Conv2D(filters=512, kernel_size=(3,3), padding=\"same\", activation=\"relu\"),\n",
    "    layers.Conv2D(filters=512, kernel_size=(3,3), padding=\"same\", activation=\"relu\"),\n",
    "    layers.MaxPooling2D(pool_size=(2,2), strides=(2,2)),\n",
    "    \n",
    "    layers.Flatten(),\n",
    "    layers.Dense(4096, activation='relu'),\n",
    "    layers.Dense(4096, activation='relu'),\n",
    "    layers.Dense(29, activation='softmax')\n",
    "])\n"
   ]
  },
  {
   "cell_type": "markdown",
   "id": "483c8744",
   "metadata": {},
   "source": [
    "Compile the model and set the learnimg rate here and show the model summary and after that train the model"
   ]
  },
  {
   "cell_type": "code",
   "execution_count": 13,
   "id": "65ff603c",
   "metadata": {},
   "outputs": [
    {
     "name": "stdout",
     "output_type": "stream",
     "text": [
      "Model: \"sequential_1\"\n",
      "_________________________________________________________________\n",
      "Layer (type)                 Output Shape              Param #   \n",
      "=================================================================\n",
      "conv2d_13 (Conv2D)           (None, 32, 32, 64)        1792      \n",
      "_________________________________________________________________\n",
      "conv2d_14 (Conv2D)           (None, 32, 32, 64)        36928     \n",
      "_________________________________________________________________\n",
      "max_pooling2d_5 (MaxPooling2 (None, 16, 16, 64)        0         \n",
      "_________________________________________________________________\n",
      "conv2d_15 (Conv2D)           (None, 16, 16, 128)       73856     \n",
      "_________________________________________________________________\n",
      "conv2d_16 (Conv2D)           (None, 16, 16, 128)       147584    \n",
      "_________________________________________________________________\n",
      "max_pooling2d_6 (MaxPooling2 (None, 8, 8, 128)         0         \n",
      "_________________________________________________________________\n",
      "conv2d_17 (Conv2D)           (None, 8, 8, 256)         295168    \n",
      "_________________________________________________________________\n",
      "conv2d_18 (Conv2D)           (None, 8, 8, 256)         590080    \n",
      "_________________________________________________________________\n",
      "conv2d_19 (Conv2D)           (None, 8, 8, 256)         590080    \n",
      "_________________________________________________________________\n",
      "max_pooling2d_7 (MaxPooling2 (None, 4, 4, 256)         0         \n",
      "_________________________________________________________________\n",
      "conv2d_20 (Conv2D)           (None, 4, 4, 512)         1180160   \n",
      "_________________________________________________________________\n",
      "conv2d_21 (Conv2D)           (None, 4, 4, 512)         2359808   \n",
      "_________________________________________________________________\n",
      "conv2d_22 (Conv2D)           (None, 4, 4, 512)         2359808   \n",
      "_________________________________________________________________\n",
      "max_pooling2d_8 (MaxPooling2 (None, 2, 2, 512)         0         \n",
      "_________________________________________________________________\n",
      "conv2d_23 (Conv2D)           (None, 2, 2, 512)         2359808   \n",
      "_________________________________________________________________\n",
      "conv2d_24 (Conv2D)           (None, 2, 2, 512)         2359808   \n",
      "_________________________________________________________________\n",
      "conv2d_25 (Conv2D)           (None, 2, 2, 512)         2359808   \n",
      "_________________________________________________________________\n",
      "max_pooling2d_9 (MaxPooling2 (None, 1, 1, 512)         0         \n",
      "_________________________________________________________________\n",
      "flatten_1 (Flatten)          (None, 512)               0         \n",
      "_________________________________________________________________\n",
      "dense_3 (Dense)              (None, 4096)              2101248   \n",
      "_________________________________________________________________\n",
      "dense_4 (Dense)              (None, 4096)              16781312  \n",
      "_________________________________________________________________\n",
      "dense_5 (Dense)              (None, 29)                118813    \n",
      "=================================================================\n",
      "Total params: 33,716,061\n",
      "Trainable params: 33,716,061\n",
      "Non-trainable params: 0\n",
      "_________________________________________________________________\n"
     ]
    }
   ],
   "source": [
    "learning_rate = 0.0001\n",
    "adam = Adam(lr=learning_rate)\n",
    "model.compile(optimizer=adam, loss='categorical_crossentropy', metrics=['accuracy'])\n",
    "model.summary()"
   ]
  },
  {
   "cell_type": "code",
   "execution_count": 14,
   "id": "8f6c45af",
   "metadata": {},
   "outputs": [
    {
     "name": "stdout",
     "output_type": "stream",
     "text": [
      "Epoch 1/5\n",
      "551/551 [==============================] - 51s 89ms/step - loss: 2.8956 - accuracy: 0.1133 - val_loss: 1.3202 - val_accuracy: 0.5193\n",
      "Epoch 2/5\n",
      "551/551 [==============================] - 48s 87ms/step - loss: 1.0047 - accuracy: 0.6318 - val_loss: 0.6224 - val_accuracy: 0.7700\n",
      "Epoch 3/5\n",
      "551/551 [==============================] - 36s 65ms/step - loss: 0.3762 - accuracy: 0.8635 - val_loss: 0.3328 - val_accuracy: 0.8796\n",
      "Epoch 4/5\n",
      "551/551 [==============================] - 24s 43ms/step - loss: 0.1800 - accuracy: 0.9384 - val_loss: 0.0832 - val_accuracy: 0.9736\n",
      "Epoch 5/5\n",
      "551/551 [==============================] - 24s 44ms/step - loss: 0.1290 - accuracy: 0.9560 - val_loss: 0.1746 - val_accuracy: 0.9427\n"
     ]
    }
   ],
   "source": [
    "history = model.fit(x_train, y_train, batch_size=128, epochs=5, validation_split=0.1)"
   ]
  },
  {
   "cell_type": "markdown",
   "id": "d088a1d1",
   "metadata": {},
   "source": [
    "As you can see we done the training seisson here and reached the 95% of training accuracy and 94% of the validation accuracy which look pretty decent and good model "
   ]
  },
  {
   "cell_type": "code",
   "execution_count": null,
   "id": "3f6dc5e8",
   "metadata": {},
   "outputs": [],
   "source": []
  }
 ],
 "metadata": {
  "kernelspec": {
   "display_name": "Python [conda env:cvpr] *",
   "language": "python",
   "name": "conda-env-cvpr-py"
  },
  "language_info": {
   "codemirror_mode": {
    "name": "ipython",
    "version": 3
   },
   "file_extension": ".py",
   "mimetype": "text/x-python",
   "name": "python",
   "nbconvert_exporter": "python",
   "pygments_lexer": "ipython3",
   "version": "3.8.10"
  }
 },
 "nbformat": 4,
 "nbformat_minor": 5
}
